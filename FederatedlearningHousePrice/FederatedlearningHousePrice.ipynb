{
 "cells": [
  {
   "cell_type": "code",
   "execution_count": 67,
   "id": "8e9101f7-08d6-4c10-bb1d-9e3e42d46163",
   "metadata": {},
   "outputs": [],
   "source": [
    "import pandas as pd\n",
    "import numpy as np\n",
    "from sklearn.preprocessing import LabelEncoder\n",
    "from sklearn.model_selection import train_test_split\n",
    "from sklearn.ensemble import RandomForestClassifier\n",
    "from sklearn.metrics import accuracy_score"
   ]
  },
  {
   "cell_type": "code",
   "execution_count": 68,
   "id": "c61ef03a-08b5-4bed-afb2-4c1afe7f767a",
   "metadata": {},
   "outputs": [],
   "source": [
    "train_data = pd.read_csv(\"Train_Data.csv\")\n",
    "test_data = pd.read_csv(\"Test_Data.csv\")\n"
   ]
  },
  {
   "cell_type": "code",
   "execution_count": 69,
   "id": "5fcb9c5d-849f-48e3-8be1-bca0d72160ae",
   "metadata": {},
   "outputs": [
    {
     "name": "stdout",
     "output_type": "stream",
     "text": [
      "Index(['date', 'number of rooms', 'security level of the community',\n",
      "       'residence space', 'building space', 'noise level', 'waterfront',\n",
      "       'view', 'air quality level', 'aboveground space ', 'basement space',\n",
      "       'building year', 'decoration year', 'district', 'city', 'zip code',\n",
      "       'region', 'exchange rate', 'unit price of residence space',\n",
      "       'unit price of building space', 'total cost'],\n",
      "      dtype='object')\n"
     ]
    }
   ],
   "source": [
    "# Checking the column names\n",
    "print(train_data.columns)"
   ]
  },
  {
   "cell_type": "code",
   "execution_count": 70,
   "id": "26e87f98-4a27-4f70-b7c9-9e497418c57c",
   "metadata": {},
   "outputs": [
    {
     "data": {
      "text/html": [
       "<div>\n",
       "<style scoped>\n",
       "    .dataframe tbody tr th:only-of-type {\n",
       "        vertical-align: middle;\n",
       "    }\n",
       "\n",
       "    .dataframe tbody tr th {\n",
       "        vertical-align: top;\n",
       "    }\n",
       "\n",
       "    .dataframe thead th {\n",
       "        text-align: right;\n",
       "    }\n",
       "</style>\n",
       "<table border=\"1\" class=\"dataframe\">\n",
       "  <thead>\n",
       "    <tr style=\"text-align: right;\">\n",
       "      <th></th>\n",
       "      <th>unit price of residence space</th>\n",
       "      <th>residence space</th>\n",
       "      <th>unit price of building space</th>\n",
       "      <th>building space</th>\n",
       "      <th>exchange rate</th>\n",
       "    </tr>\n",
       "  </thead>\n",
       "  <tbody>\n",
       "    <tr>\n",
       "      <th>0</th>\n",
       "      <td>11.886409</td>\n",
       "      <td>2820</td>\n",
       "      <td>0.977028</td>\n",
       "      <td>67518</td>\n",
       "      <td>6.784830</td>\n",
       "    </tr>\n",
       "    <tr>\n",
       "      <th>1</th>\n",
       "      <td>25.681414</td>\n",
       "      <td>1210</td>\n",
       "      <td>0.698603</td>\n",
       "      <td>9400</td>\n",
       "      <td>6.243129</td>\n",
       "    </tr>\n",
       "    <tr>\n",
       "      <th>2</th>\n",
       "      <td>16.921174</td>\n",
       "      <td>2200</td>\n",
       "      <td>0.238882</td>\n",
       "      <td>9397</td>\n",
       "      <td>6.010127</td>\n",
       "    </tr>\n",
       "    <tr>\n",
       "      <th>3</th>\n",
       "      <td>19.632230</td>\n",
       "      <td>1200</td>\n",
       "      <td>0.876178</td>\n",
       "      <td>9720</td>\n",
       "      <td>7.560375</td>\n",
       "    </tr>\n",
       "    <tr>\n",
       "      <th>4</th>\n",
       "      <td>28.205930</td>\n",
       "      <td>1370</td>\n",
       "      <td>0.132472</td>\n",
       "      <td>5858</td>\n",
       "      <td>6.543941</td>\n",
       "    </tr>\n",
       "    <tr>\n",
       "      <th>...</th>\n",
       "      <td>...</td>\n",
       "      <td>...</td>\n",
       "      <td>...</td>\n",
       "      <td>...</td>\n",
       "      <td>...</td>\n",
       "    </tr>\n",
       "    <tr>\n",
       "      <th>3995</th>\n",
       "      <td>22.244430</td>\n",
       "      <td>3840</td>\n",
       "      <td>0.573261</td>\n",
       "      <td>85728</td>\n",
       "      <td>6.242422</td>\n",
       "    </tr>\n",
       "    <tr>\n",
       "      <th>3996</th>\n",
       "      <td>51.508733</td>\n",
       "      <td>2310</td>\n",
       "      <td>0.527359</td>\n",
       "      <td>13430</td>\n",
       "      <td>6.742414</td>\n",
       "    </tr>\n",
       "    <tr>\n",
       "      <th>3997</th>\n",
       "      <td>39.224068</td>\n",
       "      <td>3360</td>\n",
       "      <td>0.360142</td>\n",
       "      <td>22111</td>\n",
       "      <td>6.289534</td>\n",
       "    </tr>\n",
       "    <tr>\n",
       "      <th>3998</th>\n",
       "      <td>46.203935</td>\n",
       "      <td>2640</td>\n",
       "      <td>0.493162</td>\n",
       "      <td>3680</td>\n",
       "      <td>7.108628</td>\n",
       "    </tr>\n",
       "    <tr>\n",
       "      <th>3999</th>\n",
       "      <td>13.292847</td>\n",
       "      <td>6070</td>\n",
       "      <td>0.676156</td>\n",
       "      <td>171626</td>\n",
       "      <td>7.878675</td>\n",
       "    </tr>\n",
       "  </tbody>\n",
       "</table>\n",
       "<p>4000 rows × 5 columns</p>\n",
       "</div>"
      ],
      "text/plain": [
       "      unit price of residence space  residence space  \\\n",
       "0                         11.886409             2820   \n",
       "1                         25.681414             1210   \n",
       "2                         16.921174             2200   \n",
       "3                         19.632230             1200   \n",
       "4                         28.205930             1370   \n",
       "...                             ...              ...   \n",
       "3995                      22.244430             3840   \n",
       "3996                      51.508733             2310   \n",
       "3997                      39.224068             3360   \n",
       "3998                      46.203935             2640   \n",
       "3999                      13.292847             6070   \n",
       "\n",
       "      unit price of building space  building space  exchange rate  \n",
       "0                         0.977028           67518       6.784830  \n",
       "1                         0.698603            9400       6.243129  \n",
       "2                         0.238882            9397       6.010127  \n",
       "3                         0.876178            9720       7.560375  \n",
       "4                         0.132472            5858       6.543941  \n",
       "...                            ...             ...            ...  \n",
       "3995                      0.573261           85728       6.242422  \n",
       "3996                      0.527359           13430       6.742414  \n",
       "3997                      0.360142           22111       6.289534  \n",
       "3998                      0.493162            3680       7.108628  \n",
       "3999                      0.676156          171626       7.878675  \n",
       "\n",
       "[4000 rows x 5 columns]"
      ]
     },
     "execution_count": 70,
     "metadata": {},
     "output_type": "execute_result"
    }
   ],
   "source": [
    " train_data[[\"unit price of residence space\", \"residence space\", \"unit price of building space\", \"building space\", \"exchange rate\"]]\n"
   ]
  },
  {
   "cell_type": "code",
   "execution_count": 71,
   "id": "083c0436-7100-44ac-8ca0-de0f7efe0e5e",
   "metadata": {},
   "outputs": [],
   "source": [
    "# Calculate total cost\n",
    "train_data[\"total cost\"] = (train_data[\"unit price of residence space\"] * train_data[\"residence space\"] + train_data[\"unit price of building space\"] * train_data[\"building space\"]) * train_data[\"exchange rate\"]\n"
   ]
  },
  {
   "cell_type": "code",
   "execution_count": 72,
   "id": "35472457-db75-4ce3-98d5-2b95d63bc6ae",
   "metadata": {},
   "outputs": [],
   "source": [
    "# Dropping the columns \"Unit price of residence space\" and \"Unit price of building space\"\n",
    "train_data = train_data.drop([\"unit price of residence space\", \"unit price of building space\"], axis=1)\n"
   ]
  },
  {
   "cell_type": "code",
   "execution_count": 73,
   "id": "5703c0b4-dc92-4cfe-a47d-0b20ceb96b58",
   "metadata": {},
   "outputs": [],
   "source": [
    "# Define the price ranges based on the total cost column\n",
    "price_ranges = [(0, 300000), (300000, 500000), (500000, 700000), (700000, float('inf'))]"
   ]
  },
  {
   "cell_type": "code",
   "execution_count": 74,
   "id": "ed85b0f8-c7a7-4ddb-b33b-d8d0818fad12",
   "metadata": {},
   "outputs": [],
   "source": [
    "# Define a function to assign each total cost to a price range\n",
    "def assign_price_range(total_cost):\n",
    "    for i in range(len(price_ranges)):\n",
    "        if total_cost >= price_ranges[i][0] and total_cost < price_ranges[i][1]:\n",
    "            return i + 1"
   ]
  },
  {
   "cell_type": "code",
   "execution_count": 75,
   "id": "624160cd-8347-4e38-82b3-167e763b027e",
   "metadata": {},
   "outputs": [],
   "source": [
    "# Create a new column in the train dataset to store the price ranges\n",
    "train_data['price range'] = train_data['total cost'].apply(assign_price_range)"
   ]
  },
  {
   "cell_type": "code",
   "execution_count": 76,
   "id": "fdfd1679-e101-4d11-bfb0-bed9b35f09a0",
   "metadata": {},
   "outputs": [],
   "source": [
    "# Combine both train and test district columns to fit the encoder\n",
    "combined_districts = pd.concat([train_data['district'], test_data['district']])\n",
    "\n",
    "# Fit the label encoder on the combined districts\n",
    "encoder = LabelEncoder()\n",
    "encoder.fit(combined_districts)\n",
    "\n",
    "# Now transform the district column in both datasets\n",
    "train_data['district'] = encoder.transform(train_data['district'])\n",
    "test_data['district'] = encoder.transform(test_data['district'])"
   ]
  },
  {
   "cell_type": "code",
   "execution_count": 77,
   "id": "52c2670a-2869-4dad-bb8b-66ddd16cea4a",
   "metadata": {},
   "outputs": [],
   "source": [
    "# Repeat the process for the city column\n",
    "encoder = LabelEncoder()\n",
    "encoder.fit(combined_data['city'])\n",
    "\n",
    "train_data['city'] = encoder.transform(train_data['city'])\n",
    "test_data['city'] = encoder.transform(test_data['city'])"
   ]
  },
  {
   "cell_type": "code",
   "execution_count": 78,
   "id": "cacb491b-ca15-4b92-a59b-68f0a9d7aa5f",
   "metadata": {},
   "outputs": [],
   "source": [
    "# Repeat the process for the zip code column\n",
    "encoder = LabelEncoder()\n",
    "encoder.fit(combined_data['zip code'])\n",
    "\n",
    "train_data['zip code'] = encoder.transform(train_data['zip code'])\n",
    "test_data['zip code'] = encoder.transform(test_data['zip code'])"
   ]
  },
  {
   "cell_type": "code",
   "execution_count": 79,
   "id": "7928949f-3079-4b51-89e9-55930b4cdeb0",
   "metadata": {},
   "outputs": [],
   "source": [
    "# Split the train dataset into train and validation datasets\n",
    "train_data, val_data = train_test_split(train_data, test_size=0.2, random_state=42)\n",
    "# Define the features and target\n",
    "features = ['number of rooms', 'security level of the community', 'residence space', 'building space', 'noise level', 'waterfront', 'view', 'air quality level', 'aboveground space ', 'basement space', 'building year', 'decoration year', 'district', 'city', 'zip code']\n",
    "target = 'price range'"
   ]
  },
  {
   "cell_type": "code",
   "execution_count": 80,
   "id": "25709f86-bdfa-49dd-8ce6-4f7d895ba477",
   "metadata": {},
   "outputs": [
    {
     "name": "stderr",
     "output_type": "stream",
     "text": [
      "C:\\Users\\MrChatGPT\\AppData\\Local\\Programs\\Python\\Python312\\Lib\\site-packages\\numpy\\core\\fromnumeric.py:59: FutureWarning: 'DataFrame.swapaxes' is deprecated and will be removed in a future version. Please use 'DataFrame.transpose' instead.\n",
      "  return bound(*args, **kwds)\n"
     ]
    }
   ],
   "source": [
    "# Split the train_data into four parts for the clients\n",
    "client_data = np.array_split(train_data, 4)"
   ]
  },
  {
   "cell_type": "code",
   "execution_count": 82,
   "id": "63fc2557-70d4-4f6f-842a-4f62184f67fb",
   "metadata": {},
   "outputs": [
    {
     "name": "stdout",
     "output_type": "stream",
     "text": [
      "Round: 1\n",
      "Round 1 Accuracy: 0.6275\n",
      "Round: 2\n",
      "Round 2 Accuracy: 0.6275\n",
      "Round: 3\n",
      "Round 3 Accuracy: 0.6275\n",
      "Round: 4\n",
      "Round 4 Accuracy: 0.6275\n",
      "Round: 5\n",
      "Round 5 Accuracy: 0.6275\n",
      "Round: 6\n",
      "Round 6 Accuracy: 0.6275\n",
      "Round: 7\n",
      "Round 7 Accuracy: 0.6275\n",
      "Round: 8\n",
      "Round 8 Accuracy: 0.6275\n",
      "Round: 9\n",
      "Round 9 Accuracy: 0.6275\n",
      "Round: 10\n",
      "Round 10 Accuracy: 0.6275\n"
     ]
    }
   ],
   "source": [
    "# Define a function to train the model on each client's data\n",
    "def train_client_model(client_data):\n",
    "    X = client_data[features]\n",
    "    y = client_data[target]\n",
    "    client_model = RandomForestClassifier(n_estimators=100, max_depth=20, random_state=42)\n",
    "    client_model.fit(X, y)\n",
    "    return client_model\n",
    "\n",
    "# Define a function to aggregate predictions (majority voting) from client models\n",
    "def aggregate_predictions(client_models, X_val):\n",
    "    # Collect predictions from all client models\n",
    "    predictions = np.array([model.predict(X_val) for model in client_models])\n",
    "    \n",
    "    # Majority voting: take the mode (most frequent prediction) across models for each sample\n",
    "    majority_votes = np.apply_along_axis(lambda x: np.bincount(x).argmax(), axis=0, arr=predictions)\n",
    "    return majority_votes\n",
    "\n",
    "# Define a function to evaluate the aggregated predictions\n",
    "def evaluate_aggregated_predictions(client_models, val_data):\n",
    "    X_val = val_data[features]\n",
    "    y_val = val_data[target]\n",
    "    y_pred = aggregate_predictions(client_models, X_val)\n",
    "    return accuracy_score(y_val, y_pred)\n",
    "\n",
    "# Perform federated learning\n",
    "num_rounds = 10\n",
    "\n",
    "for i in range(num_rounds):\n",
    "    print(\"Round:\", i+1)\n",
    "    \n",
    "    # Train the model on each client's data and collect client models\n",
    "    client_models = [train_client_model(client) for client in client_data]\n",
    "    \n",
    "    # Evaluate the aggregated predictions from client models\n",
    "    accuracy = evaluate_aggregated_predictions(client_models, val_data)\n",
    "    \n",
    "    print(f\"Round {i+1} Accuracy: {accuracy:.4f}\")\n"
   ]
  }
 ],
 "metadata": {
  "kernelspec": {
   "display_name": "Python 3 (ipykernel)",
   "language": "python",
   "name": "python3"
  },
  "language_info": {
   "codemirror_mode": {
    "name": "ipython",
    "version": 3
   },
   "file_extension": ".py",
   "mimetype": "text/x-python",
   "name": "python",
   "nbconvert_exporter": "python",
   "pygments_lexer": "ipython3",
   "version": "3.12.2"
  }
 },
 "nbformat": 4,
 "nbformat_minor": 5
}
